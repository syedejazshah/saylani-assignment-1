{
 "cells": [
  {
   "cell_type": "code",
   "execution_count": 29,
   "metadata": {},
   "outputs": [
    {
     "name": "stdout",
     "output_type": "stream",
     "text": [
      " Twinkle, twinkle ,little star, \n",
      "         How I wonder what you are ! \n",
      "               Up above the world so high , \n",
      "               Like a diamond in the sky \n",
      "Twinkle,twinkle, Little star. \n",
      "       How I wonder what you are \n"
     ]
    }
   ],
   "source": [
    "#question 1\n",
    "twinkle  =\" Twinkle, twinkle ,little star, \\n         How I wonder what you are ! \\n               Up above the world so high ,\" \n",
    "twinkle1= \" \\n               Like a diamond in the sky \\nTwinkle,twinkle, Little star. \\n       How I wonder what you are \"    \n",
    "twinkle2= twinkle+twinkle1\n",
    "print (twinkle2)"
   ]
  },
  {
   "cell_type": "code",
   "execution_count": 30,
   "metadata": {},
   "outputs": [
    {
     "name": "stdout",
     "output_type": "stream",
     "text": [
      "Python 3.7 version\n"
     ]
    }
   ],
   "source": [
    "#question 2\n",
    "python_version =\"Python 3.7 version\"\n",
    "print(python_version)"
   ]
  },
  {
   "cell_type": "code",
   "execution_count": 4,
   "metadata": {},
   "outputs": [
    {
     "name": "stdout",
     "output_type": "stream",
     "text": [
      "02 nov 2019\n",
      "11:20\n"
     ]
    }
   ],
   "source": [
    "#question 3\n",
    "date = \"02 nov 2019\"\n",
    "time= \"\\n11:20\"\n",
    "currentdate_time=date +time\n",
    "print ( currentdate_time)"
   ]
  },
  {
   "cell_type": "code",
   "execution_count": 1,
   "metadata": {},
   "outputs": [
    {
     "name": "stdout",
     "output_type": "stream",
     "text": [
      "enter raduis4\n",
      "25.136\n"
     ]
    }
   ],
   "source": [
    "#question 4\n",
    "pi=3.142\n",
    "r= int(input (\"enter raduis\"))\n",
    "circle=2*pi*r\n",
    "print (circle)\n",
    "\n"
   ]
  },
  {
   "cell_type": "code",
   "execution_count": 2,
   "metadata": {},
   "outputs": [
    {
     "name": "stdout",
     "output_type": "stream",
     "text": [
      "   first name:ejaz\n",
      "    last name:shah\n",
      "shah , ejaz\n"
     ]
    }
   ],
   "source": [
    "#question 5\n",
    "first_name = input (\"   first name:\" )\n",
    "last_name = input (\"    last name:\" )\n",
    "sep=(\" , \")\n",
    "full_name =last_name+ sep+first_name\n",
    "print(full_name)\n"
   ]
  },
  {
   "cell_type": "code",
   "execution_count": 2,
   "metadata": {},
   "outputs": [
    {
     "name": "stdout",
     "output_type": "stream",
     "text": [
      "num:3\n",
      "num:6\n",
      "9\n"
     ]
    }
   ],
   "source": [
    "num1=int(input(\"num:\"))\n",
    "num2=int(input(\"num:\"))\n",
    "add=num1+num2\n",
    "print(add)"
   ]
  },
  {
   "cell_type": "code",
   "execution_count": null,
   "metadata": {},
   "outputs": [],
   "source": []
  },
  {
   "cell_type": "code",
   "execution_count": null,
   "metadata": {},
   "outputs": [],
   "source": []
  }
 ],
 "metadata": {
  "kernelspec": {
   "display_name": "Python 3",
   "language": "python",
   "name": "python3"
  },
  "language_info": {
   "codemirror_mode": {
    "name": "ipython",
    "version": 3
   },
   "file_extension": ".py",
   "mimetype": "text/x-python",
   "name": "python",
   "nbconvert_exporter": "python",
   "pygments_lexer": "ipython3",
   "version": "3.7.4"
  }
 },
 "nbformat": 4,
 "nbformat_minor": 2
}
